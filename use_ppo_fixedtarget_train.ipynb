{
 "cells": [
  {
   "cell_type": "code",
   "execution_count": 1,
   "metadata": {},
   "outputs": [
    {
     "name": "stderr",
     "output_type": "stream",
     "text": [
      "/home/pp/anaconda3/envs/baseline/lib/python3.6/site-packages/gym/logger.py:34: UserWarning: \u001b[33mWARN: Box bound precision lowered by casting to float32\u001b[0m\n",
      "  warnings.warn(colorize(\"%s: %s\" % (\"WARN\", msg % args), \"yellow\"))\n"
     ]
    }
   ],
   "source": [
    "import gym\n",
    "from gym import error, spaces, utils\n",
    "from gym.utils import seeding\n",
    "\n",
    "import os\n",
    "import pybullet as p\n",
    "import pybullet_data\n",
    "import math\n",
    "import numpy as np\n",
    "import random\n",
    "\n",
    "from gym_myrobot.envs.robot_reach import ReachEnv\n",
    "robenv = ReachEnv(reward_type='dense',usegripper=False, use_fixed_target=True, usegui=True, fixed_target=[0.1, 0.1, 0.1], distance_threshold=0.005)  # reward type = 'sparse' 时，为稀疏奖励，可以配合her算法使用\n",
    "# robenv = ReachEnv(reward_type='sparse',usegripper=True, usegui=True)  # reward type = 'sparse' 时，为稀疏奖励，可以配合her算法使用\n",
    "\n",
    "import torch\n",
    "import torch.nn as nn\n",
    "from torch.distributions import MultivariateNormal\n",
    "from torch.distributions import Categorical\n",
    "import numpy as np\n",
    "import gym\n",
    "import os\n",
    "\n",
    "device = torch.device('cpu')\n",
    "if(torch.cuda.is_available()):\n",
    "    device = torch.device('cuda:0')"
   ]
  },
  {
   "cell_type": "code",
   "execution_count": 2,
   "metadata": {},
   "outputs": [
    {
     "data": {
      "text/plain": [
       "{'observation': array([ 2.86000013e-01,  6.88214270e-22,  2.04500005e-01,  0.00000000e+00,\n",
       "        -0.00000000e+00,  0.00000000e+00]),\n",
       " 'achieved_goal': array([2.86000013e-01, 6.88214270e-22, 2.04500005e-01]),\n",
       " 'desired_goal': array([0.1, 0.1, 0.1])}"
      ]
     },
     "execution_count": 2,
     "metadata": {},
     "output_type": "execute_result"
    }
   ],
   "source": [
    "robenv.reset()"
   ]
  },
  {
   "cell_type": "code",
   "execution_count": 2,
   "metadata": {},
   "outputs": [],
   "source": [
    "from torch.utils.tensorboard import SummaryWriter\n",
    "writer_actor = SummaryWriter('PPO_logs/actor')\n",
    "writer_critic = SummaryWriter('PPO_logs/critic')\n",
    "writer_scalars = SummaryWriter('PPO_logs')"
   ]
  },
  {
   "cell_type": "code",
   "execution_count": 3,
   "metadata": {},
   "outputs": [],
   "source": [
    "class RolloutBuffer:\n",
    "    def __init__(self):\n",
    "        self.actions = []\n",
    "        self.states = []\n",
    "        self.logprobs = []\n",
    "        self.rewards = []\n",
    "        self.is_terminals = []\n",
    "        \n",
    "    def clear(self):\n",
    "        del self.actions[:]\n",
    "        del self.states[:]\n",
    "        del self.logprobs[:]\n",
    "        del self.rewards[:]\n",
    "        del self.is_terminals[:]"
   ]
  },
  {
   "cell_type": "code",
   "execution_count": 4,
   "metadata": {},
   "outputs": [],
   "source": [
    "class Actor(nn.Module):\n",
    "    '''给出一个分布的均值'''\n",
    "    def __init__(self, state_dim, action_dim):\n",
    "        super(Actor, self).__init__()\n",
    "        self.linear1 = nn.Linear(state_dim, 64)\n",
    "        self.linear2 = nn.Linear(64, 64)\n",
    "        self.linear3 = nn.Linear(64, action_dim)\n",
    "        \n",
    "    def forward(self, state):\n",
    "        x = torch.tanh(self.linear1(state))\n",
    "        x = torch.tanh(self.linear2(x))\n",
    "        x = torch.tanh(self.linear3(x))\n",
    "        return x "
   ]
  },
  {
   "cell_type": "code",
   "execution_count": 5,
   "metadata": {},
   "outputs": [],
   "source": [
    "class Critic(nn.Module):\n",
    "    def __init__(self, state_dim):\n",
    "        super(Critic, self).__init__()\n",
    "        self.linear1 = nn.Linear(state_dim, 64)\n",
    "        self.linear2 = nn.Linear(64, 64)\n",
    "        self.linear3 = nn.Linear(64, 1)\n",
    "    \n",
    "    def forward(self, state):\n",
    "        x = torch.tanh(self.linear1(state))\n",
    "        x = torch.tanh(self.linear2(x))\n",
    "        x = self.linear3(x)\n",
    "        return x"
   ]
  },
  {
   "cell_type": "code",
   "execution_count": 6,
   "metadata": {},
   "outputs": [],
   "source": [
    "class ActorCritic(nn.Module):\n",
    "    '''把Actor和Critic封装到一起了，这样可以直接评估，比较简单'''\n",
    "    def __init__(self, state_dim, action_dim, action_std_init):\n",
    "        super(ActorCritic, self).__init__()\n",
    "        \n",
    "        self.action_dim = action_dim\n",
    "        self.action_var = torch.full((self.action_dim,), action_std_init**2).to(device) # 把一个标量变成动作维度的向量\n",
    "        \n",
    "        self.actor = Actor(state_dim, action_dim)\n",
    "        self.critic = Critic(state_dim)\n",
    "        \n",
    "    def set_action_std(self, new_action_std):\n",
    "        self.action_var = torch.full((self.action_dim,), new_action_std**2).to(device)\n",
    "        \n",
    "    def act(self, state):\n",
    "        '''输入单个状态，得到动作和log, 是之后要用到选择动作的子函数'''\n",
    "        action_mean = self.actor(state)           # 一行均值，列数是动作维度，1维向量\n",
    "        cov_mat = torch.diag(self.action_var)     # 一行方差，可以直接diag\n",
    "        dist = MultivariateNormal(action_mean, cov_mat)\n",
    "        action = dist.sample()\n",
    "        action_logprob = dist.log_prob(action)\n",
    "        \n",
    "        return action.detach(), action_logprob.detach()  # [x,x,x], x\n",
    "    \n",
    "    def evaluate(self, state, action):\n",
    "        '''输入一批状态和动作，得到一批评估结果, .log_prob(action)中action不必是这个dist筛出来的'''\n",
    "        action_mean = self.actor(state)          # 好多行均值，列数是动作维度，2维矩阵\n",
    "        action_var = self.action_var.expand_as(action_mean)  # 方差也要变成好多行\n",
    "        cov_mat = torch.diag_embed(action_var)   # 不能直接diag，要用diag_embed\n",
    "        dist = MultivariateNormal(action_mean, cov_mat)\n",
    "        \n",
    "        # 如果动作的dim是1，则需要给他改变一下形状，\n",
    "        # 因为多维action[batch_size, action_dim]，而单维的action[batch_size]，少了个维度,要变成[bactch_size,1]\n",
    "        if self.action_dim == 1:\n",
    "            action = action.reshape(-1, 1)   # [batch_size, 1] 只有第二个维度有，下面的log_prob才好使\n",
    "        \n",
    "        action_logprobs = dist.log_prob(action)\n",
    "        state_values = self.critic(state)\n",
    "        dist_entropy = dist.entropy()\n",
    "        \n",
    "        return action_logprobs, state_values, dist_entropy "
   ]
  },
  {
   "cell_type": "code",
   "execution_count": 7,
   "metadata": {},
   "outputs": [],
   "source": [
    "class PPO:\n",
    "    def __init__(self, env, lr_actor, lr_critic, gamma, K_epochs, eps_clip, actions_std_init=0.6):\n",
    "        self.env = env\n",
    "        self.state_dim = 6\n",
    "        self.action_dim = env.action_space.shape[0]\n",
    "        self.max_action = float(env.action_space.high[0])\n",
    "        \n",
    "        self.action_std = actions_std_init\n",
    "        self.gamma = gamma\n",
    "        self.K_epochs = K_epochs\n",
    "        self.eps_clip = eps_clip\n",
    "        self.actions_std_init = actions_std_init\n",
    "        self.buffer = RolloutBuffer()\n",
    "        \n",
    "        # 初始化Actor_Critic 整体网络\n",
    "        self.policy = ActorCritic(self.state_dim, self.action_dim, self.action_std).to(device)\n",
    "        self.policy_old = ActorCritic(self.state_dim, self.action_dim, self.action_std).to(device)\n",
    "        \n",
    "        # 初始化优化器和损失函数\n",
    "        # 因为一个policy里面有两个网络，所以优化器的参数和学习率是两个字典组成的列表\n",
    "        self.optimizer = torch.optim.Adam([\n",
    "            {'params':self.policy.actor.parameters(), 'lr':lr_actor},\n",
    "            {'params':self.policy.critic.parameters(), 'lr':lr_critic}\n",
    "        ])\n",
    "\n",
    "        self.loss_fn = nn.MSELoss()\n",
    "        self.summary = {}\n",
    "    \n",
    "    def set_action_std(self, new_action_std):\n",
    "        '''给ActorCritic类设置一下std'''\n",
    "        self.policy.set_action_std(new_action_std)\n",
    "        self.policy_old.set_action_std(new_action_std)\n",
    " \n",
    "    def decay_action_std(self, action_std_decay_rate, min_action_std):\n",
    "        '''随着步数增大， 减小action的方差, 并给两个actor网络设置方差'''\n",
    "        self.action_std -= action_std_decay_rate\n",
    "        self.action_std = round(self.action_std, 4)      # 保留四位小数\n",
    "        if (self.action_std <= min_action_std):\n",
    "            self.action_std = min_action_std\n",
    "        self.set_action_std(self.action_std)\n",
    "    \n",
    "    def select_action(self, state):\n",
    "        '''根据状态获取动作，得到的动作是用于与环境交互的， 不用于update'''\n",
    "        with torch.no_grad():\n",
    "            state = torch.FloatTensor(state).to(device)\n",
    "            action, action_log_prob = self.policy_old.act(state)\n",
    "        \n",
    "        # 选择动作的同时，把state， action, action_log_prob 加入buffer,都是tensor\n",
    "        self.buffer.states.append(state)\n",
    "        self.buffer.actions.append(action)    \n",
    "        self.buffer.logprobs.append(action_log_prob)\n",
    "        \n",
    "        return self.max_action * action.detach().cpu().numpy()\n",
    "    \n",
    "    def test_select_action(self, state):\n",
    "        with torch.no_grad():\n",
    "            state = torch.FloatTensor(state).to(device)\n",
    "            action = self.policy_old.actor(state)\n",
    "            return self.max_action * action.detach().cpu().numpy()\n",
    "         \n",
    "    def update(self):\n",
    "        # 先把reward转换为能用的折扣过的rewards\n",
    "        rewards = []\n",
    "        discounted_reward = 0\n",
    "        for reward, is_terminal in zip(reversed(self.buffer.rewards), reversed(self.buffer.is_terminals)):\n",
    "            if is_terminal:\n",
    "                discounted_reward = 0\n",
    "            discounted_reward = reward + (self.gamma * discounted_reward)\n",
    "            rewards.insert(0, discounted_reward)  # 把折扣过的动作重头排列\n",
    "        # 归一化reward\n",
    "        rewards = torch.FloatTensor(rewards).to(device)\n",
    "        rewards = (rewards - rewards.mean())/(rewards.std() + 1e-7)  # [4000]\n",
    "        \n",
    "        # buffer里面的这三个东西本来就是tensor，所以纵向连接dim=0也要用tensor的连接方法\n",
    "        old_states = torch.squeeze(torch.stack(self.buffer.states, dim=0)).detach().to(device)   # [4000, 6]\n",
    "        old_actions = torch.squeeze(torch.stack(self.buffer.actions, dim=0)).detach().to(device) # [4000, 4]\n",
    "        old_logprobs = torch.squeeze(torch.stack(self.buffer.logprobs, dim=0)).detach().to(device) # [4000]\n",
    "        \n",
    "        # update\n",
    "        for _ in range(self.K_epochs):\n",
    "            \n",
    "            # 用现在的actor和critic，评估旧的states和actions\n",
    "            logprobs, state_values, dist_entropy = self.policy.evaluate(old_states, old_actions)\n",
    "        #   [4000],   [4000, 1]     [4000]\n",
    "            \n",
    "            # 把state_values 变成[batch_size] 和rewards形状一致\n",
    "            state_values = torch.squeeze(state_values)\n",
    "            \n",
    "            # 计算ratio\n",
    "            ratios = torch.exp(logprobs - old_logprobs.detach())\n",
    "\n",
    "            # 计算loss\n",
    "            advantages = rewards - state_values.detach()\n",
    "            surr1 = ratios *  advantages\n",
    "            surr2 = torch.clamp(ratios, 1-self.eps_clip, 1+self.eps_clip) * advantages\n",
    "            \n",
    "            # PPO 的最终loss\n",
    "            loss = -torch.min(surr1, surr2) - 0.01 * dist_entropy + 0.5 * self.loss_fn(state_values, rewards) #[4000]\n",
    "            loss = loss.mean()\n",
    "            self.summary['loss'] = loss.item()\n",
    "            \n",
    "            # 梯度更新\n",
    "            self.optimizer.zero_grad()\n",
    "            loss.backward()\n",
    "            self.optimizer.step()\n",
    "        \n",
    "        # 更新目标网络，用load模型参数的方法来硬更新模型\n",
    "        self.policy_old.load_state_dict(self.policy.state_dict())\n",
    "        \n",
    "        # 清空buffer\n",
    "        self.buffer.clear()        \n",
    "        \n",
    "    \n",
    "    def save(self, checkpoint_path):\n",
    "        '''只保存模型参数'''\n",
    "        torch.save(self.policy_old.state_dict(), checkpoint_path)\n",
    "        \n",
    "    def load(self, checkpoint_path):\n",
    "        self.policy_old.load_state_dict(torch.load(checkpoint_path))\n",
    "        self.policy.load_state_dict(torch.load(checkpoint_path))"
   ]
  },
  {
   "cell_type": "code",
   "execution_count": 8,
   "metadata": {},
   "outputs": [],
   "source": [
    "max_ep_len = 1000                # 每个回合最大步数\n",
    "max_train_timesteps = int(3e6)\n",
    "action_std = 0.6\n",
    "action_std_decay_rate = 0.05\n",
    "min_action_std = 0.1\n",
    "action_std_decay_freq = int(2.5e5)  # 多少步减小一下std\n",
    "print_freq = max_ep_len * 10        # 多少步打印一下奖励\n",
    "save_model_freq = int(1e5)          # 多少步保存一下模型\n",
    "\n",
    "update_timestep = max_ep_len*4  # buffer存4000组数据训练一次\n",
    "K_epochs = 80                   # update一次更新网络80次\n",
    "\n",
    "eps_clip = 0.2\n",
    "gamma = 0.99\n",
    "lr_actor = 0.0003\n",
    "lr_critic = 0.001\n",
    "\n",
    "env = robenv\n",
    "\n",
    "ppo_agent = PPO(env, lr_actor, lr_critic, gamma, K_epochs, eps_clip, action_std)\n",
    "\n",
    "directory = 'PPO_weigths' + '/' + 'arm' + '/'\n",
    "if not os.path.exists(directory):\n",
    "      os.makedirs(directory)\n",
    "# checkpoint_path = directory + 'ppo_{}_dgx.pth'.format('arm')  # 模型保存会覆盖这个文件，整套训练下来，就保存一个文件\n",
    "checkpoint_path = directory + 'ppo_use_gravity{}.pth'.format('arm')  # 模型保存会覆盖这个文件，整套训练下来，就保存一个文件"
   ]
  },
  {
   "cell_type": "code",
   "execution_count": 9,
   "metadata": {},
   "outputs": [],
   "source": [
    "writer_actor.add_graph(ppo_agent.policy.actor, torch.FloatTensor(env.reset()['observation']).cuda())\n",
    "writer_critic.add_graph(ppo_agent.policy.critic, torch.FloatTensor(env.reset()['observation']).cuda())"
   ]
  },
  {
   "cell_type": "markdown",
   "metadata": {},
   "source": [
    "# 训练代码"
   ]
  },
  {
   "cell_type": "code",
   "execution_count": 10,
   "metadata": {},
   "outputs": [
    {
     "name": "stdout",
     "output_type": "stream",
     "text": [
      "Episode : 9 \t\t Timestep : 10000 \t\t Average Reward : -264.59\n",
      "Episode : 19 \t\t Timestep : 20000 \t\t Average Reward : -231.34\n",
      "Episode : 29 \t\t Timestep : 30000 \t\t Average Reward : -204.65\n",
      "Episode : 39 \t\t Timestep : 40000 \t\t Average Reward : -182.19\n",
      "Episode : 49 \t\t Timestep : 50000 \t\t Average Reward : -161.67\n",
      "Episode : 59 \t\t Timestep : 60000 \t\t Average Reward : -158.95\n",
      "Episode : 69 \t\t Timestep : 70000 \t\t Average Reward : -124.71\n",
      "Episode : 79 \t\t Timestep : 80000 \t\t Average Reward : -107.23\n",
      "Episode : 89 \t\t Timestep : 90000 \t\t Average Reward : -83.69\n",
      "Episode : 99 \t\t Timestep : 100000 \t\t Average Reward : -80.47\n",
      "Episode : 109 \t\t Timestep : 110000 \t\t Average Reward : -76.65\n",
      "Episode : 119 \t\t Timestep : 120000 \t\t Average Reward : -77.78\n",
      "Episode : 129 \t\t Timestep : 130000 \t\t Average Reward : -76.66\n",
      "Episode : 139 \t\t Timestep : 140000 \t\t Average Reward : -78.16\n",
      "Episode : 149 \t\t Timestep : 150000 \t\t Average Reward : -79.6\n",
      "Episode : 159 \t\t Timestep : 160000 \t\t Average Reward : -73.48\n",
      "Episode : 169 \t\t Timestep : 170000 \t\t Average Reward : -68.57\n",
      "Episode : 179 \t\t Timestep : 180000 \t\t Average Reward : -68.91\n",
      "Episode : 189 \t\t Timestep : 190000 \t\t Average Reward : -60.98\n",
      "Episode : 199 \t\t Timestep : 200000 \t\t Average Reward : -59.17\n",
      "Episode : 209 \t\t Timestep : 210000 \t\t Average Reward : -63.54\n",
      "Episode : 219 \t\t Timestep : 220000 \t\t Average Reward : -58.16\n",
      "Episode : 229 \t\t Timestep : 230000 \t\t Average Reward : -59.06\n",
      "Episode : 239 \t\t Timestep : 240000 \t\t Average Reward : -55.13\n",
      "Episode : 249 \t\t Timestep : 250000 \t\t Average Reward : -54.04\n",
      "Episode : 259 \t\t Timestep : 260000 \t\t Average Reward : -55.15\n",
      "Episode : 269 \t\t Timestep : 270000 \t\t Average Reward : -51.55\n",
      "Episode : 279 \t\t Timestep : 280000 \t\t Average Reward : -51.35\n",
      "Episode : 289 \t\t Timestep : 290000 \t\t Average Reward : -49.47\n",
      "Episode : 299 \t\t Timestep : 300000 \t\t Average Reward : -49.6\n",
      "Episode : 309 \t\t Timestep : 310000 \t\t Average Reward : -49.09\n",
      "Episode : 319 \t\t Timestep : 320000 \t\t Average Reward : -47.69\n",
      "Episode : 329 \t\t Timestep : 330000 \t\t Average Reward : -45.98\n",
      "Episode : 339 \t\t Timestep : 340000 \t\t Average Reward : -49.15\n",
      "Episode : 349 \t\t Timestep : 350000 \t\t Average Reward : -44.93\n",
      "Episode : 359 \t\t Timestep : 360000 \t\t Average Reward : -45.2\n",
      "Episode : 369 \t\t Timestep : 370000 \t\t Average Reward : -44.29\n",
      "Episode : 379 \t\t Timestep : 380000 \t\t Average Reward : -42.37\n",
      "Episode : 389 \t\t Timestep : 390000 \t\t Average Reward : -42.66\n",
      "Episode : 399 \t\t Timestep : 400000 \t\t Average Reward : -44.14\n",
      "Episode : 409 \t\t Timestep : 410000 \t\t Average Reward : -44.56\n",
      "Episode : 419 \t\t Timestep : 420000 \t\t Average Reward : -45.93\n",
      "Episode : 429 \t\t Timestep : 430000 \t\t Average Reward : -44.93\n",
      "Episode : 439 \t\t Timestep : 440000 \t\t Average Reward : -44.5\n",
      "Episode : 449 \t\t Timestep : 450000 \t\t Average Reward : -42.44\n",
      "Episode : 459 \t\t Timestep : 460000 \t\t Average Reward : -39.26\n",
      "Episode : 469 \t\t Timestep : 470000 \t\t Average Reward : -40.0\n",
      "Episode : 479 \t\t Timestep : 480000 \t\t Average Reward : -41.32\n",
      "Episode : 489 \t\t Timestep : 490000 \t\t Average Reward : -39.97\n",
      "Episode : 499 \t\t Timestep : 500000 \t\t Average Reward : -37.41\n",
      "Episode : 509 \t\t Timestep : 510000 \t\t Average Reward : -38.36\n",
      "Episode : 519 \t\t Timestep : 520000 \t\t Average Reward : -36.45\n",
      "Episode : 529 \t\t Timestep : 530000 \t\t Average Reward : -38.19\n",
      "Episode : 539 \t\t Timestep : 540000 \t\t Average Reward : -43.22\n",
      "Episode : 549 \t\t Timestep : 550000 \t\t Average Reward : -45.28\n",
      "Episode : 559 \t\t Timestep : 560000 \t\t Average Reward : -40.4\n",
      "Episode : 569 \t\t Timestep : 570000 \t\t Average Reward : -38.58\n",
      "Episode : 579 \t\t Timestep : 580000 \t\t Average Reward : -37.26\n",
      "Episode : 589 \t\t Timestep : 590000 \t\t Average Reward : -35.99\n",
      "Episode : 599 \t\t Timestep : 600000 \t\t Average Reward : -35.36\n",
      "Episode : 609 \t\t Timestep : 610000 \t\t Average Reward : -36.31\n",
      "Episode : 619 \t\t Timestep : 620000 \t\t Average Reward : -35.42\n",
      "Episode : 629 \t\t Timestep : 630000 \t\t Average Reward : -34.89\n",
      "Episode : 639 \t\t Timestep : 640000 \t\t Average Reward : -40.75\n",
      "Episode : 649 \t\t Timestep : 650000 \t\t Average Reward : -38.43\n",
      "Episode : 659 \t\t Timestep : 660000 \t\t Average Reward : -36.15\n",
      "Episode : 669 \t\t Timestep : 670000 \t\t Average Reward : -34.76\n",
      "Episode : 679 \t\t Timestep : 680000 \t\t Average Reward : -34.94\n",
      "Episode : 689 \t\t Timestep : 690000 \t\t Average Reward : -31.65\n",
      "Episode : 699 \t\t Timestep : 700000 \t\t Average Reward : -37.43\n",
      "Episode : 709 \t\t Timestep : 710000 \t\t Average Reward : -33.44\n",
      "Episode : 719 \t\t Timestep : 720000 \t\t Average Reward : -31.93\n",
      "Episode : 729 \t\t Timestep : 730000 \t\t Average Reward : -32.53\n",
      "Episode : 739 \t\t Timestep : 740000 \t\t Average Reward : -32.38\n",
      "Episode : 749 \t\t Timestep : 750000 \t\t Average Reward : -32.99\n",
      "Episode : 759 \t\t Timestep : 760000 \t\t Average Reward : -33.18\n",
      "Episode : 769 \t\t Timestep : 770000 \t\t Average Reward : -32.51\n",
      "Episode : 779 \t\t Timestep : 780000 \t\t Average Reward : -34.72\n",
      "Episode : 789 \t\t Timestep : 790000 \t\t Average Reward : -32.9\n",
      "Episode : 799 \t\t Timestep : 800000 \t\t Average Reward : -32.43\n",
      "Episode : 809 \t\t Timestep : 810000 \t\t Average Reward : -36.57\n",
      "Episode : 819 \t\t Timestep : 820000 \t\t Average Reward : -34.53\n",
      "Episode : 829 \t\t Timestep : 830000 \t\t Average Reward : -31.28\n",
      "Episode : 839 \t\t Timestep : 840000 \t\t Average Reward : -32.72\n",
      "Episode : 849 \t\t Timestep : 850000 \t\t Average Reward : -31.83\n",
      "Episode : 859 \t\t Timestep : 860000 \t\t Average Reward : -32.93\n",
      "Episode : 869 \t\t Timestep : 870000 \t\t Average Reward : -31.24\n",
      "Episode : 879 \t\t Timestep : 880000 \t\t Average Reward : -32.78\n",
      "Episode : 889 \t\t Timestep : 890000 \t\t Average Reward : -32.83\n",
      "Episode : 899 \t\t Timestep : 900000 \t\t Average Reward : -32.91\n",
      "Episode : 909 \t\t Timestep : 910000 \t\t Average Reward : -29.92\n",
      "Episode : 919 \t\t Timestep : 920000 \t\t Average Reward : -31.98\n",
      "Episode : 929 \t\t Timestep : 930000 \t\t Average Reward : -33.07\n",
      "Episode : 939 \t\t Timestep : 940000 \t\t Average Reward : -35.81\n",
      "Episode : 949 \t\t Timestep : 950000 \t\t Average Reward : -30.96\n",
      "Episode : 959 \t\t Timestep : 960000 \t\t Average Reward : -30.99\n",
      "Episode : 969 \t\t Timestep : 970000 \t\t Average Reward : -32.45\n",
      "Episode : 979 \t\t Timestep : 980000 \t\t Average Reward : -33.86\n",
      "Episode : 989 \t\t Timestep : 990000 \t\t Average Reward : -32.11\n",
      "Episode : 999 \t\t Timestep : 1000000 \t\t Average Reward : -31.96\n",
      "Episode : 1009 \t\t Timestep : 1010000 \t\t Average Reward : -30.27\n",
      "Episode : 1019 \t\t Timestep : 1020000 \t\t Average Reward : -30.05\n",
      "Episode : 1029 \t\t Timestep : 1030000 \t\t Average Reward : -30.56\n",
      "Episode : 1039 \t\t Timestep : 1040000 \t\t Average Reward : -29.13\n",
      "Episode : 1049 \t\t Timestep : 1050000 \t\t Average Reward : -30.15\n",
      "Episode : 1059 \t\t Timestep : 1060000 \t\t Average Reward : -32.17\n",
      "Episode : 1069 \t\t Timestep : 1070000 \t\t Average Reward : -31.1\n",
      "Episode : 1079 \t\t Timestep : 1080000 \t\t Average Reward : -31.84\n",
      "Episode : 1089 \t\t Timestep : 1090000 \t\t Average Reward : -33.92\n",
      "Episode : 1099 \t\t Timestep : 1100000 \t\t Average Reward : -31.67\n",
      "Episode : 1109 \t\t Timestep : 1110000 \t\t Average Reward : -31.0\n",
      "Episode : 1119 \t\t Timestep : 1120000 \t\t Average Reward : -30.64\n",
      "Episode : 1129 \t\t Timestep : 1130000 \t\t Average Reward : -30.45\n",
      "Episode : 1139 \t\t Timestep : 1140000 \t\t Average Reward : -32.35\n",
      "Episode : 1149 \t\t Timestep : 1150000 \t\t Average Reward : -32.45\n",
      "Episode : 1159 \t\t Timestep : 1160000 \t\t Average Reward : -34.18\n",
      "Episode : 1169 \t\t Timestep : 1170000 \t\t Average Reward : -33.78\n",
      "Episode : 1179 \t\t Timestep : 1180000 \t\t Average Reward : -34.22\n",
      "Episode : 1189 \t\t Timestep : 1190000 \t\t Average Reward : -35.2\n",
      "Episode : 1199 \t\t Timestep : 1200000 \t\t Average Reward : -33.36\n",
      "Episode : 1209 \t\t Timestep : 1210000 \t\t Average Reward : -34.03\n",
      "Episode : 1219 \t\t Timestep : 1220000 \t\t Average Reward : -33.87\n",
      "Episode : 1229 \t\t Timestep : 1230000 \t\t Average Reward : -30.19\n",
      "Episode : 1239 \t\t Timestep : 1240000 \t\t Average Reward : -31.62\n",
      "Episode : 1249 \t\t Timestep : 1250000 \t\t Average Reward : -32.3\n",
      "Episode : 1259 \t\t Timestep : 1260000 \t\t Average Reward : -28.0\n",
      "Episode : 1269 \t\t Timestep : 1270000 \t\t Average Reward : -31.86\n",
      "Episode : 1279 \t\t Timestep : 1280000 \t\t Average Reward : -29.88\n",
      "Episode : 1289 \t\t Timestep : 1290000 \t\t Average Reward : -28.68\n",
      "Episode : 1299 \t\t Timestep : 1300000 \t\t Average Reward : -28.17\n",
      "Episode : 1309 \t\t Timestep : 1310000 \t\t Average Reward : -30.22\n",
      "Episode : 1319 \t\t Timestep : 1320000 \t\t Average Reward : -28.69\n",
      "Episode : 1329 \t\t Timestep : 1330000 \t\t Average Reward : -32.64\n",
      "Episode : 1339 \t\t Timestep : 1340000 \t\t Average Reward : -31.01\n",
      "Episode : 1349 \t\t Timestep : 1350000 \t\t Average Reward : -29.62\n",
      "Episode : 1359 \t\t Timestep : 1360000 \t\t Average Reward : -29.07\n",
      "Episode : 1369 \t\t Timestep : 1370000 \t\t Average Reward : -31.98\n",
      "Episode : 1379 \t\t Timestep : 1380000 \t\t Average Reward : -29.78\n",
      "Episode : 1389 \t\t Timestep : 1390000 \t\t Average Reward : -30.65\n",
      "Episode : 1399 \t\t Timestep : 1400000 \t\t Average Reward : -31.14\n",
      "Episode : 1409 \t\t Timestep : 1410000 \t\t Average Reward : -31.82\n",
      "Episode : 1419 \t\t Timestep : 1420000 \t\t Average Reward : -32.02\n",
      "Episode : 1429 \t\t Timestep : 1430000 \t\t Average Reward : -31.78\n",
      "Episode : 1439 \t\t Timestep : 1440000 \t\t Average Reward : -32.3\n",
      "Episode : 1449 \t\t Timestep : 1450000 \t\t Average Reward : -36.14\n",
      "Episode : 1459 \t\t Timestep : 1460000 \t\t Average Reward : -32.12\n",
      "Episode : 1469 \t\t Timestep : 1470000 \t\t Average Reward : -35.36\n",
      "Episode : 1479 \t\t Timestep : 1480000 \t\t Average Reward : -30.47\n",
      "Episode : 1489 \t\t Timestep : 1490000 \t\t Average Reward : -29.45\n",
      "Episode : 1499 \t\t Timestep : 1500000 \t\t Average Reward : -36.27\n",
      "Episode : 1509 \t\t Timestep : 1510000 \t\t Average Reward : -29.81\n",
      "Episode : 1519 \t\t Timestep : 1520000 \t\t Average Reward : -27.91\n",
      "Episode : 1529 \t\t Timestep : 1530000 \t\t Average Reward : -27.64\n",
      "Episode : 1539 \t\t Timestep : 1540000 \t\t Average Reward : -30.21\n",
      "Episode : 1549 \t\t Timestep : 1550000 \t\t Average Reward : -28.71\n",
      "Episode : 1559 \t\t Timestep : 1560000 \t\t Average Reward : -29.94\n",
      "Episode : 1569 \t\t Timestep : 1570000 \t\t Average Reward : -31.3\n",
      "Episode : 1579 \t\t Timestep : 1580000 \t\t Average Reward : -31.0\n",
      "Episode : 1589 \t\t Timestep : 1590000 \t\t Average Reward : -31.35\n",
      "Episode : 1599 \t\t Timestep : 1600000 \t\t Average Reward : -34.2\n",
      "Episode : 1609 \t\t Timestep : 1610000 \t\t Average Reward : -32.45\n",
      "Episode : 1619 \t\t Timestep : 1620000 \t\t Average Reward : -32.92\n",
      "Episode : 1629 \t\t Timestep : 1630000 \t\t Average Reward : -31.71\n",
      "Episode : 1639 \t\t Timestep : 1640000 \t\t Average Reward : -29.93\n",
      "Episode : 1649 \t\t Timestep : 1650000 \t\t Average Reward : -31.35\n",
      "Episode : 1659 \t\t Timestep : 1660000 \t\t Average Reward : -32.17\n",
      "Episode : 1669 \t\t Timestep : 1670000 \t\t Average Reward : -29.78\n",
      "Episode : 1679 \t\t Timestep : 1680000 \t\t Average Reward : -29.67\n",
      "Episode : 1689 \t\t Timestep : 1690000 \t\t Average Reward : -29.29\n",
      "Episode : 1699 \t\t Timestep : 1700000 \t\t Average Reward : -29.05\n",
      "Episode : 1709 \t\t Timestep : 1710000 \t\t Average Reward : -27.6\n",
      "Episode : 1719 \t\t Timestep : 1720000 \t\t Average Reward : -27.18\n",
      "Episode : 1729 \t\t Timestep : 1730000 \t\t Average Reward : -27.79\n",
      "Episode : 1739 \t\t Timestep : 1740000 \t\t Average Reward : -27.85\n",
      "Episode : 1749 \t\t Timestep : 1750000 \t\t Average Reward : -27.76\n",
      "Episode : 1759 \t\t Timestep : 1760000 \t\t Average Reward : -26.48\n",
      "Episode : 1769 \t\t Timestep : 1770000 \t\t Average Reward : -26.45\n",
      "Episode : 1779 \t\t Timestep : 1780000 \t\t Average Reward : -27.87\n",
      "Episode : 1789 \t\t Timestep : 1790000 \t\t Average Reward : -28.92\n",
      "Episode : 1799 \t\t Timestep : 1800000 \t\t Average Reward : -28.98\n",
      "Episode : 1809 \t\t Timestep : 1810000 \t\t Average Reward : -30.24\n",
      "Episode : 1819 \t\t Timestep : 1820000 \t\t Average Reward : -30.68\n",
      "Episode : 1829 \t\t Timestep : 1830000 \t\t Average Reward : -27.78\n",
      "Episode : 1839 \t\t Timestep : 1840000 \t\t Average Reward : -28.48\n",
      "Episode : 1849 \t\t Timestep : 1850000 \t\t Average Reward : -26.06\n",
      "Episode : 1859 \t\t Timestep : 1860000 \t\t Average Reward : -27.34\n",
      "Episode : 1869 \t\t Timestep : 1870000 \t\t Average Reward : -27.92\n",
      "Episode : 1879 \t\t Timestep : 1880000 \t\t Average Reward : -27.0\n",
      "Episode : 1889 \t\t Timestep : 1890000 \t\t Average Reward : -25.22\n",
      "Episode : 1899 \t\t Timestep : 1900000 \t\t Average Reward : -25.65\n",
      "Episode : 1909 \t\t Timestep : 1910000 \t\t Average Reward : -26.29\n",
      "Episode : 1919 \t\t Timestep : 1920000 \t\t Average Reward : -25.77\n",
      "Episode : 1929 \t\t Timestep : 1930000 \t\t Average Reward : -26.12\n",
      "Episode : 1939 \t\t Timestep : 1940000 \t\t Average Reward : -26.07\n",
      "Episode : 1949 \t\t Timestep : 1950000 \t\t Average Reward : -27.08\n",
      "Episode : 1959 \t\t Timestep : 1960000 \t\t Average Reward : -25.97\n",
      "Episode : 1969 \t\t Timestep : 1970000 \t\t Average Reward : -25.14\n",
      "Episode : 1979 \t\t Timestep : 1980000 \t\t Average Reward : -25.49\n",
      "Episode : 1989 \t\t Timestep : 1990000 \t\t Average Reward : -25.29\n",
      "Episode : 1999 \t\t Timestep : 2000000 \t\t Average Reward : -25.68\n",
      "Episode : 2009 \t\t Timestep : 2010000 \t\t Average Reward : -24.79\n",
      "Episode : 2019 \t\t Timestep : 2020000 \t\t Average Reward : -25.27\n",
      "Episode : 2029 \t\t Timestep : 2030000 \t\t Average Reward : -25.1\n",
      "Episode : 2039 \t\t Timestep : 2040000 \t\t Average Reward : -24.79\n",
      "Episode : 2049 \t\t Timestep : 2050000 \t\t Average Reward : -24.78\n",
      "Episode : 2059 \t\t Timestep : 2060000 \t\t Average Reward : -26.24\n",
      "Episode : 2069 \t\t Timestep : 2070000 \t\t Average Reward : -26.18\n",
      "Episode : 2079 \t\t Timestep : 2080000 \t\t Average Reward : -27.14\n",
      "Episode : 2089 \t\t Timestep : 2090000 \t\t Average Reward : -28.01\n",
      "Episode : 2099 \t\t Timestep : 2100000 \t\t Average Reward : -27.89\n",
      "Episode : 2109 \t\t Timestep : 2110000 \t\t Average Reward : -26.65\n",
      "Episode : 2119 \t\t Timestep : 2120000 \t\t Average Reward : -25.97\n",
      "Episode : 2129 \t\t Timestep : 2130000 \t\t Average Reward : -29.27\n",
      "Episode : 2139 \t\t Timestep : 2140000 \t\t Average Reward : -30.7\n",
      "Episode : 2149 \t\t Timestep : 2150000 \t\t Average Reward : -28.28\n",
      "Episode : 2159 \t\t Timestep : 2160000 \t\t Average Reward : -29.18\n",
      "Episode : 2169 \t\t Timestep : 2170000 \t\t Average Reward : -27.56\n",
      "Episode : 2179 \t\t Timestep : 2180000 \t\t Average Reward : -28.72\n",
      "Episode : 2189 \t\t Timestep : 2190000 \t\t Average Reward : -27.75\n",
      "Episode : 2199 \t\t Timestep : 2200000 \t\t Average Reward : -25.74\n",
      "Episode : 2209 \t\t Timestep : 2210000 \t\t Average Reward : -25.25\n",
      "Episode : 2219 \t\t Timestep : 2220000 \t\t Average Reward : -24.81\n",
      "Episode : 2229 \t\t Timestep : 2230000 \t\t Average Reward : -24.82\n",
      "Episode : 2239 \t\t Timestep : 2240000 \t\t Average Reward : -24.45\n",
      "Episode : 2249 \t\t Timestep : 2250000 \t\t Average Reward : -24.31\n",
      "Episode : 2259 \t\t Timestep : 2260000 \t\t Average Reward : -24.45\n",
      "Episode : 2269 \t\t Timestep : 2270000 \t\t Average Reward : -24.19\n",
      "Episode : 2279 \t\t Timestep : 2280000 \t\t Average Reward : -23.54\n",
      "Episode : 2289 \t\t Timestep : 2290000 \t\t Average Reward : -24.32\n",
      "Episode : 2299 \t\t Timestep : 2300000 \t\t Average Reward : -24.97\n",
      "Episode : 2309 \t\t Timestep : 2310000 \t\t Average Reward : -24.38\n",
      "Episode : 2319 \t\t Timestep : 2320000 \t\t Average Reward : -24.8\n"
     ]
    },
    {
     "ename": "KeyboardInterrupt",
     "evalue": "",
     "output_type": "error",
     "traceback": [
      "\u001b[0;31m---------------------------------------------------------------------------\u001b[0m",
      "\u001b[0;31mKeyboardInterrupt\u001b[0m                         Traceback (most recent call last)",
      "\u001b[0;32m<ipython-input-10-3269fb6998e5>\u001b[0m in \u001b[0;36m<module>\u001b[0;34m\u001b[0m\n\u001b[1;32m     13\u001b[0m     \u001b[0;32mfor\u001b[0m \u001b[0mt\u001b[0m \u001b[0;32min\u001b[0m \u001b[0mrange\u001b[0m\u001b[0;34m(\u001b[0m\u001b[0mmax_ep_len\u001b[0m\u001b[0;34m)\u001b[0m\u001b[0;34m:\u001b[0m\u001b[0;34m\u001b[0m\u001b[0;34m\u001b[0m\u001b[0m\n\u001b[1;32m     14\u001b[0m \u001b[0;31m#         env.render()\u001b[0m\u001b[0;34m\u001b[0m\u001b[0;34m\u001b[0m\u001b[0;34m\u001b[0m\u001b[0m\n\u001b[0;32m---> 15\u001b[0;31m         \u001b[0maction\u001b[0m \u001b[0;34m=\u001b[0m \u001b[0mppo_agent\u001b[0m\u001b[0;34m.\u001b[0m\u001b[0mselect_action\u001b[0m\u001b[0;34m(\u001b[0m\u001b[0mstate\u001b[0m\u001b[0;34m)\u001b[0m  \u001b[0;31m# 已经存入了三个东西到buffer了！\u001b[0m\u001b[0;34m\u001b[0m\u001b[0;34m\u001b[0m\u001b[0m\n\u001b[0m\u001b[1;32m     16\u001b[0m         \u001b[0mstate\u001b[0m\u001b[0;34m,\u001b[0m \u001b[0mreward\u001b[0m\u001b[0;34m,\u001b[0m \u001b[0mdone\u001b[0m\u001b[0;34m,\u001b[0m \u001b[0m_\u001b[0m \u001b[0;34m=\u001b[0m \u001b[0menv\u001b[0m\u001b[0;34m.\u001b[0m\u001b[0mstep\u001b[0m\u001b[0;34m(\u001b[0m\u001b[0maction\u001b[0m\u001b[0;34m)\u001b[0m \u001b[0;31m# 直接更新下一个状态到当前状态，没有出现next_state\u001b[0m\u001b[0;34m\u001b[0m\u001b[0;34m\u001b[0m\u001b[0m\n\u001b[1;32m     17\u001b[0m         \u001b[0mstate\u001b[0m \u001b[0;34m=\u001b[0m \u001b[0mstate\u001b[0m\u001b[0;34m[\u001b[0m\u001b[0;34m'observation'\u001b[0m\u001b[0;34m]\u001b[0m\u001b[0;34m\u001b[0m\u001b[0;34m\u001b[0m\u001b[0m\n",
      "\u001b[0;32m<ipython-input-7-d9d8f068f026>\u001b[0m in \u001b[0;36mselect_action\u001b[0;34m(self, state)\u001b[0m\n\u001b[1;32m     44\u001b[0m         \u001b[0;32mwith\u001b[0m \u001b[0mtorch\u001b[0m\u001b[0;34m.\u001b[0m\u001b[0mno_grad\u001b[0m\u001b[0;34m(\u001b[0m\u001b[0;34m)\u001b[0m\u001b[0;34m:\u001b[0m\u001b[0;34m\u001b[0m\u001b[0;34m\u001b[0m\u001b[0m\n\u001b[1;32m     45\u001b[0m             \u001b[0mstate\u001b[0m \u001b[0;34m=\u001b[0m \u001b[0mtorch\u001b[0m\u001b[0;34m.\u001b[0m\u001b[0mFloatTensor\u001b[0m\u001b[0;34m(\u001b[0m\u001b[0mstate\u001b[0m\u001b[0;34m)\u001b[0m\u001b[0;34m.\u001b[0m\u001b[0mto\u001b[0m\u001b[0;34m(\u001b[0m\u001b[0mdevice\u001b[0m\u001b[0;34m)\u001b[0m\u001b[0;34m\u001b[0m\u001b[0;34m\u001b[0m\u001b[0m\n\u001b[0;32m---> 46\u001b[0;31m             \u001b[0maction\u001b[0m\u001b[0;34m,\u001b[0m \u001b[0maction_log_prob\u001b[0m \u001b[0;34m=\u001b[0m \u001b[0mself\u001b[0m\u001b[0;34m.\u001b[0m\u001b[0mpolicy_old\u001b[0m\u001b[0;34m.\u001b[0m\u001b[0mact\u001b[0m\u001b[0;34m(\u001b[0m\u001b[0mstate\u001b[0m\u001b[0;34m)\u001b[0m\u001b[0;34m\u001b[0m\u001b[0;34m\u001b[0m\u001b[0m\n\u001b[0m\u001b[1;32m     47\u001b[0m \u001b[0;34m\u001b[0m\u001b[0m\n\u001b[1;32m     48\u001b[0m         \u001b[0;31m# 选择动作的同时，把state， action, action_log_prob 加入buffer,都是tensor\u001b[0m\u001b[0;34m\u001b[0m\u001b[0;34m\u001b[0m\u001b[0;34m\u001b[0m\u001b[0m\n",
      "\u001b[0;32m<ipython-input-6-24eb617d9966>\u001b[0m in \u001b[0;36mact\u001b[0;34m(self, state)\u001b[0m\n\u001b[1;32m     17\u001b[0m         \u001b[0maction_mean\u001b[0m \u001b[0;34m=\u001b[0m \u001b[0mself\u001b[0m\u001b[0;34m.\u001b[0m\u001b[0mactor\u001b[0m\u001b[0;34m(\u001b[0m\u001b[0mstate\u001b[0m\u001b[0;34m)\u001b[0m           \u001b[0;31m# 一行均值，列数是动作维度，1维向量\u001b[0m\u001b[0;34m\u001b[0m\u001b[0;34m\u001b[0m\u001b[0m\n\u001b[1;32m     18\u001b[0m         \u001b[0mcov_mat\u001b[0m \u001b[0;34m=\u001b[0m \u001b[0mtorch\u001b[0m\u001b[0;34m.\u001b[0m\u001b[0mdiag\u001b[0m\u001b[0;34m(\u001b[0m\u001b[0mself\u001b[0m\u001b[0;34m.\u001b[0m\u001b[0maction_var\u001b[0m\u001b[0;34m)\u001b[0m     \u001b[0;31m# 一行方差，可以直接diag\u001b[0m\u001b[0;34m\u001b[0m\u001b[0;34m\u001b[0m\u001b[0m\n\u001b[0;32m---> 19\u001b[0;31m         \u001b[0mdist\u001b[0m \u001b[0;34m=\u001b[0m \u001b[0mMultivariateNormal\u001b[0m\u001b[0;34m(\u001b[0m\u001b[0maction_mean\u001b[0m\u001b[0;34m,\u001b[0m \u001b[0mcov_mat\u001b[0m\u001b[0;34m)\u001b[0m\u001b[0;34m\u001b[0m\u001b[0;34m\u001b[0m\u001b[0m\n\u001b[0m\u001b[1;32m     20\u001b[0m         \u001b[0maction\u001b[0m \u001b[0;34m=\u001b[0m \u001b[0mdist\u001b[0m\u001b[0;34m.\u001b[0m\u001b[0msample\u001b[0m\u001b[0;34m(\u001b[0m\u001b[0;34m)\u001b[0m\u001b[0;34m\u001b[0m\u001b[0;34m\u001b[0m\u001b[0m\n\u001b[1;32m     21\u001b[0m         \u001b[0maction_logprob\u001b[0m \u001b[0;34m=\u001b[0m \u001b[0mdist\u001b[0m\u001b[0;34m.\u001b[0m\u001b[0mlog_prob\u001b[0m\u001b[0;34m(\u001b[0m\u001b[0maction\u001b[0m\u001b[0;34m)\u001b[0m\u001b[0;34m\u001b[0m\u001b[0;34m\u001b[0m\u001b[0m\n",
      "\u001b[0;32m~/anaconda3/envs/baseline/lib/python3.6/site-packages/torch/distributions/multivariate_normal.py\u001b[0m in \u001b[0;36m__init__\u001b[0;34m(self, loc, covariance_matrix, precision_matrix, scale_tril, validate_args)\u001b[0m\n\u001b[1;32m    144\u001b[0m \u001b[0;34m\u001b[0m\u001b[0m\n\u001b[1;32m    145\u001b[0m         \u001b[0mevent_shape\u001b[0m \u001b[0;34m=\u001b[0m \u001b[0mself\u001b[0m\u001b[0;34m.\u001b[0m\u001b[0mloc\u001b[0m\u001b[0;34m.\u001b[0m\u001b[0mshape\u001b[0m\u001b[0;34m[\u001b[0m\u001b[0;34m-\u001b[0m\u001b[0;36m1\u001b[0m\u001b[0;34m:\u001b[0m\u001b[0;34m]\u001b[0m\u001b[0;34m\u001b[0m\u001b[0;34m\u001b[0m\u001b[0m\n\u001b[0;32m--> 146\u001b[0;31m         \u001b[0msuper\u001b[0m\u001b[0;34m(\u001b[0m\u001b[0mMultivariateNormal\u001b[0m\u001b[0;34m,\u001b[0m \u001b[0mself\u001b[0m\u001b[0;34m)\u001b[0m\u001b[0;34m.\u001b[0m\u001b[0m__init__\u001b[0m\u001b[0;34m(\u001b[0m\u001b[0mbatch_shape\u001b[0m\u001b[0;34m,\u001b[0m \u001b[0mevent_shape\u001b[0m\u001b[0;34m,\u001b[0m \u001b[0mvalidate_args\u001b[0m\u001b[0;34m=\u001b[0m\u001b[0mvalidate_args\u001b[0m\u001b[0;34m)\u001b[0m\u001b[0;34m\u001b[0m\u001b[0;34m\u001b[0m\u001b[0m\n\u001b[0m\u001b[1;32m    147\u001b[0m \u001b[0;34m\u001b[0m\u001b[0m\n\u001b[1;32m    148\u001b[0m         \u001b[0;32mif\u001b[0m \u001b[0mscale_tril\u001b[0m \u001b[0;32mis\u001b[0m \u001b[0;32mnot\u001b[0m \u001b[0;32mNone\u001b[0m\u001b[0;34m:\u001b[0m\u001b[0;34m\u001b[0m\u001b[0;34m\u001b[0m\u001b[0m\n",
      "\u001b[0;32m~/anaconda3/envs/baseline/lib/python3.6/site-packages/torch/distributions/distribution.py\u001b[0m in \u001b[0;36m__init__\u001b[0;34m(self, batch_shape, event_shape, validate_args)\u001b[0m\n\u001b[1;32m     52\u001b[0m                 \u001b[0mvalue\u001b[0m \u001b[0;34m=\u001b[0m \u001b[0mgetattr\u001b[0m\u001b[0;34m(\u001b[0m\u001b[0mself\u001b[0m\u001b[0;34m,\u001b[0m \u001b[0mparam\u001b[0m\u001b[0;34m)\u001b[0m\u001b[0;34m\u001b[0m\u001b[0;34m\u001b[0m\u001b[0m\n\u001b[1;32m     53\u001b[0m                 \u001b[0mvalid\u001b[0m \u001b[0;34m=\u001b[0m \u001b[0mconstraint\u001b[0m\u001b[0;34m.\u001b[0m\u001b[0mcheck\u001b[0m\u001b[0;34m(\u001b[0m\u001b[0mvalue\u001b[0m\u001b[0;34m)\u001b[0m\u001b[0;34m\u001b[0m\u001b[0;34m\u001b[0m\u001b[0m\n\u001b[0;32m---> 54\u001b[0;31m                 \u001b[0;32mif\u001b[0m \u001b[0;32mnot\u001b[0m \u001b[0mvalid\u001b[0m\u001b[0;34m.\u001b[0m\u001b[0mall\u001b[0m\u001b[0;34m(\u001b[0m\u001b[0;34m)\u001b[0m\u001b[0;34m:\u001b[0m\u001b[0;34m\u001b[0m\u001b[0;34m\u001b[0m\u001b[0m\n\u001b[0m\u001b[1;32m     55\u001b[0m                     raise ValueError(\n\u001b[1;32m     56\u001b[0m                         \u001b[0;34mf\"Expected parameter {param} \"\u001b[0m\u001b[0;34m\u001b[0m\u001b[0;34m\u001b[0m\u001b[0m\n",
      "\u001b[0;31mKeyboardInterrupt\u001b[0m: "
     ]
    }
   ],
   "source": [
    "time_step = 0\n",
    "i_episod = 0\n",
    "\n",
    "# printing and logging variables\n",
    "print_running_reward = 0\n",
    "print_running_episodes = 0\n",
    "\n",
    "while time_step <= max_train_timesteps:  # 以最大步数作为终止条件，同之前的第二种训练方法\n",
    "    state = env.reset()\n",
    "    state = state['observation']\n",
    "    current_ep_reward = 0\n",
    "    ep_step = 0\n",
    "    for t in range(max_ep_len):\n",
    "#         env.render()\n",
    "        action = ppo_agent.select_action(state)  # 已经存入了三个东西到buffer了！\n",
    "        state, reward, done, _ = env.step(action) # 直接更新下一个状态到当前状态，没有出现next_state\n",
    "        state = state['observation']\n",
    "        \n",
    "        ppo_agent.buffer.rewards.append(reward)\n",
    "        ppo_agent.buffer.is_terminals.append(done)\n",
    "        \n",
    "        time_step += 1\n",
    "        current_ep_reward += reward\n",
    "        ep_step += 1\n",
    "        \n",
    "        if time_step % update_timestep == 0:\n",
    "            ppo_agent.update()\n",
    "            writer_scalars.add_scalar('loss', ppo_agent.summary['loss'], time_step)\n",
    "        \n",
    "        if time_step % action_std_decay_freq == 0:\n",
    "            ppo_agent.decay_action_std(action_std_decay_rate, min_action_std)\n",
    "            \n",
    "        # printing average reward\n",
    "        if time_step % print_freq == 0:\n",
    "            # 打印这么些回合的平均回合奖励\n",
    "            print_avg_reward = print_running_reward / print_running_episodes\n",
    "            print_avg_reward = round(print_avg_reward, 2)\n",
    "\n",
    "            print(\"Episode : {} \\t\\t Timestep : {} \\t\\t Average Reward : {}\".format(i_episod, time_step, print_avg_reward))\n",
    "\n",
    "            print_running_reward = 0\n",
    "            print_running_episodes = 0\n",
    "        \n",
    "        if time_step % save_model_freq == 0:\n",
    "            ppo_agent.save(checkpoint_path)\n",
    "            \n",
    "        if done:\n",
    "            break\n",
    "    \n",
    "    writer_scalars.add_scalar('episode_reward', current_ep_reward, i_episod)\n",
    "    print_running_reward += current_ep_reward\n",
    "    print_running_episodes += 1\n",
    "    i_episod += 1"
   ]
  },
  {
   "cell_type": "markdown",
   "metadata": {},
   "source": [
    "# 测试"
   ]
  },
  {
   "cell_type": "code",
   "execution_count": 12,
   "metadata": {},
   "outputs": [],
   "source": [
    "import rospy"
   ]
  },
  {
   "cell_type": "markdown",
   "metadata": {},
   "source": [
    "## 仿真环境"
   ]
  },
  {
   "cell_type": "code",
   "execution_count": 13,
   "metadata": {},
   "outputs": [],
   "source": [
    "envsim = robenv"
   ]
  },
  {
   "cell_type": "code",
   "execution_count": 14,
   "metadata": {},
   "outputs": [],
   "source": [
    "\n",
    "ppo_agent_new = PPO(envsim, lr_actor, lr_critic, gamma, K_epochs, eps_clip, action_std)"
   ]
  },
  {
   "cell_type": "code",
   "execution_count": 15,
   "metadata": {},
   "outputs": [],
   "source": [
    "ppo_agent_new.load(checkpoint_path)\n"
   ]
  },
  {
   "cell_type": "code",
   "execution_count": 16,
   "metadata": {},
   "outputs": [],
   "source": [
    "for j in range(1):\n",
    "    states_sim = []\n",
    "    state = envsim.reset()\n",
    "    state = state['observation']\n",
    "    for i in range(500):\n",
    "        action = ppo_agent_new.test_select_action(state)\n",
    "        state, reward, done, _ = envsim.step(action)\n",
    "        rospy.sleep(0.02)\n",
    "        state = state['observation']\n",
    "        states_sim.append(state)\n",
    "        if done:\n",
    "            break"
   ]
  },
  {
   "cell_type": "code",
   "execution_count": 17,
   "metadata": {},
   "outputs": [],
   "source": [
    "import matplotlib.pyplot as plt"
   ]
  },
  {
   "cell_type": "code",
   "execution_count": 18,
   "metadata": {},
   "outputs": [
    {
     "data": {
      "text/plain": [
       "(500, 6)"
      ]
     },
     "execution_count": 18,
     "metadata": {},
     "output_type": "execute_result"
    }
   ],
   "source": [
    "states_sim = np.array(states_sim)\n",
    "states_sim.shape"
   ]
  },
  {
   "cell_type": "code",
   "execution_count": 19,
   "metadata": {},
   "outputs": [],
   "source": [
    "states_sim_pose = states_sim[:, :3]"
   ]
  },
  {
   "cell_type": "code",
   "execution_count": 20,
   "metadata": {},
   "outputs": [
    {
     "data": {
      "text/plain": [
       "<matplotlib.legend.Legend at 0x7f29d556ecf8>"
      ]
     },
     "execution_count": 20,
     "metadata": {},
     "output_type": "execute_result"
    },
    {
     "data": {
      "image/png": "[encoded data removed]",
      "text/plain": [
       "<Figure size 432x288 with 1 Axes>"
      ]
     },
     "metadata": {
      "needs_background": "light"
     },
     "output_type": "display_data"
    }
   ],
   "source": [
    "t = np.arange(0, 500, 1)\n",
    "plt.plot(t, states_sim_pose[:,0],'r', t,states_sim_pose[:,1],'b', t, states_sim_pose[:,2],'g')\n",
    "plt.xlabel('time-step')\n",
    "plt.ylabel('poses')\n",
    "plt.legend(['x_sim','y_sim','z_sim'], loc='best')"
   ]
  },
  {
   "cell_type": "markdown",
   "metadata": {},
   "source": [
    "## 真实环境 \n",
    "### 需要用到真实的设备，openmanipulatorx，需要自行购买"
   ]
  },
  {
   "cell_type": "code",
   "execution_count": 17,
   "metadata": {},
   "outputs": [
    {
     "name": "stderr",
     "output_type": "stream",
     "text": [
      "/home/pp/anaconda3/envs/baseline/lib/python3.6/site-packages/gym/logger.py:34: UserWarning: \u001b[33mWARN: Box bound precision lowered by casting to float32\u001b[0m\n",
      "  warnings.warn(colorize(\"%s: %s\" % (\"WARN\", msg % args), \"yellow\"))\n"
     ]
    }
   ],
   "source": [
    "from gym_myrobot.envs.real_arm_env import RealarmEnv\n",
    "envreal = RealarmEnv(reward_type='dense',use_gripper=True)"
   ]
  },
  {
   "cell_type": "code",
   "execution_count": 19,
   "metadata": {},
   "outputs": [
    {
     "name": "stdout",
     "output_type": "stream",
     "text": [
      "-0.16179898383580413\n",
      "-0.16088894104076631\n",
      "-0.15952422053283438\n",
      "-0.15815997226319206\n",
      "-0.15556745343061162\n",
      "-0.15543353213846364\n",
      "-0.15330395319225398\n",
      "-0.15183178825678204\n",
      "-0.15004834602806033\n",
      "-0.14823148712329892\n"
     ]
    }
   ],
   "source": [
    "for j in range(1):\n",
    "    states_real = []\n",
    "    state = envreal.reset()\n",
    "    state = state['observation']\n",
    "    for i in range(500):\n",
    "        action = ppo_agent_new.test_select_action(state)\n",
    "        state, reward, done, info = envreal.step(action)\n",
    "        print(reward)\n",
    "        state = state['observation']\n",
    "        states_real.append(state)\n",
    "        if done:\n",
    "            break"
   ]
  },
  {
   "cell_type": "code",
   "execution_count": 20,
   "metadata": {},
   "outputs": [],
   "source": [
    "states_real = np.array(states_real)\n",
    "states_real_pose = states_real[:, :3]"
   ]
  },
  {
   "cell_type": "code",
   "execution_count": 21,
   "metadata": {},
   "outputs": [
    {
     "data": {
      "text/plain": [
       "<matplotlib.legend.Legend at 0x7f05e0066a58>"
      ]
     },
     "execution_count": 21,
     "metadata": {},
     "output_type": "execute_result"
    },
    {
     "data": {
      "image/png": "[encoded data removed]",
      "text/plain": [
       "<matplotlib.figure.Figure at 0x7f05e0066710>"
      ]
     },
     "metadata": {
      "needs_background": "light"
     },
     "output_type": "display_data"
    }
   ],
   "source": [
    "t = np.arange(0, 500, 1)\n",
    "plt.plot(t, states_real_pose[:,0],'r--', t,states_real_pose[:,1],'b--', t, states_real_pose[:,2],'g--')\n",
    "plt.xlabel('time-step')\n",
    "plt.ylabel('poses')\n",
    "plt.legend(['x_real','y_real','z_real'], loc='best')"
   ]
  },
  {
   "cell_type": "markdown",
   "metadata": {},
   "source": [
    "# 单点跟踪仿真和实物对比"
   ]
  },
  {
   "cell_type": "code",
   "execution_count": 22,
   "metadata": {},
   "outputs": [
    {
     "data": {
      "text/plain": [
       "<matplotlib.legend.Legend at 0x7f05c054b4e0>"
      ]
     },
     "execution_count": 22,
     "metadata": {},
     "output_type": "execute_result"
    },
    {
     "data": {
      "image/png": "[encoded data removed]",
      "text/plain": [
       "<matplotlib.figure.Figure at 0x7f05c054b438>"
      ]
     },
     "metadata": {
      "needs_background": "light"
     },
     "output_type": "display_data"
    }
   ],
   "source": [
    "t = np.arange(0, 500, 1)\n",
    "plt.plot(t, states_real_pose[:,0],'r--', t,states_real_pose[:,1],'b--', t, states_real_pose[:,2],'g--', t, states_sim_pose[:,0],'r', t,states_sim_pose[:,1],'b', t, states_sim_pose[:,2],'g')\n",
    "plt.xlabel('time-step')\n",
    "plt.ylabel('poses')\n",
    "plt.legend(['x_real','y_real','z_real','x_sim', 'y_sim', 'z_sim'], loc='best')"
   ]
  },
  {
   "cell_type": "code",
   "execution_count": null,
   "metadata": {},
   "outputs": [],
   "source": []
  }
 ],
 "metadata": {
  "interpreter": {
   "hash": "be7c24b6c677481f72574ad8dd0426aa142df58920f5739129da1878e2bc9311"
  },
  "kernelspec": {
   "display_name": "Python 3.6.13 64-bit ('baseline': conda)",
   "language": "python",
   "name": "python3"
  },
  "language_info": {
   "codemirror_mode": {
    "name": "ipython",
    "version": 3
   },
   "file_extension": ".py",
   "mimetype": "text/x-python",
   "name": "python",
   "nbconvert_exporter": "python",
   "pygments_lexer": "ipython3",
   "version": "3.6.13"
  },
  "orig_nbformat": 4
 },
 "nbformat": 4,
 "nbformat_minor": 2
}
